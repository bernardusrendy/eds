{
 "cells": [
  {
   "cell_type": "code",
   "execution_count": 1,
   "metadata": {},
   "outputs": [],
   "source": [
    "import numpy as np\n",
    "import matplotlib.pyplot as plt\n",
    "import pandas as pd"
   ]
  },
  {
   "cell_type": "code",
   "execution_count": 2,
   "metadata": {},
   "outputs": [],
   "source": [
    "Y_1=np.random.randn(20,2)\n",
    "Y_2=np.random.randn(20,2)+100\n",
    "Y_3=np.random.randn(20,2)-100"
   ]
  },
  {
   "cell_type": "code",
   "execution_count": 3,
   "metadata": {},
   "outputs": [
    {
     "data": {
      "text/plain": [
       "array([[ 9.36829921e-01,  2.60981412e-01],\n",
       "       [ 3.05608685e-01, -1.23599319e-01],\n",
       "       [ 5.04207470e-01,  1.47083519e+00],\n",
       "       [-2.76072016e+00,  1.71352781e+00],\n",
       "       [ 3.49297993e-01,  7.84823067e-01],\n",
       "       [-6.44008328e-01,  3.05653391e-02],\n",
       "       [-9.06306936e-02, -2.14292917e+00],\n",
       "       [-9.79619076e-01, -6.42777439e-01],\n",
       "       [ 1.14155290e-01, -3.00116877e+00],\n",
       "       [ 8.89153857e-01,  1.30632866e-01],\n",
       "       [-4.20924197e-01,  1.37544009e+00],\n",
       "       [-4.87099902e-01,  1.60071382e+00],\n",
       "       [-1.75485259e+00, -1.13054635e-01],\n",
       "       [ 1.43205745e+00, -9.84598691e-01],\n",
       "       [-4.02472080e-01, -9.23486465e-02],\n",
       "       [ 4.28866974e-01, -1.73725395e-02],\n",
       "       [-1.57547041e+00,  1.40218070e+00],\n",
       "       [-6.98954073e-01,  1.34007568e+00],\n",
       "       [-1.68438002e+00,  1.55524484e+00],\n",
       "       [ 3.17914609e-02,  1.14580005e+00],\n",
       "       [ 9.87619371e+01,  1.00605835e+02],\n",
       "       [ 9.86694693e+01,  1.01025061e+02],\n",
       "       [ 1.01151433e+02,  1.00707414e+02],\n",
       "       [ 9.88928347e+01,  1.00693032e+02],\n",
       "       [ 9.95328050e+01,  9.99546082e+01],\n",
       "       [ 1.02223427e+02,  9.91469014e+01],\n",
       "       [ 1.00270200e+02,  9.78606099e+01],\n",
       "       [ 9.97810108e+01,  9.88785231e+01],\n",
       "       [ 9.99950152e+01,  9.95523639e+01],\n",
       "       [ 1.00538364e+02,  1.00666455e+02],\n",
       "       [ 9.96568739e+01,  1.00407696e+02],\n",
       "       [ 9.95179220e+01,  9.94265426e+01],\n",
       "       [ 9.95492231e+01,  9.92800340e+01],\n",
       "       [ 9.99758476e+01,  1.00003615e+02],\n",
       "       [ 9.98194214e+01,  1.00417486e+02],\n",
       "       [ 9.98633781e+01,  1.00155211e+02],\n",
       "       [ 9.95105557e+01,  9.92692056e+01],\n",
       "       [ 9.99378713e+01,  1.01050246e+02],\n",
       "       [ 1.00811692e+02,  9.85632202e+01],\n",
       "       [ 9.84113017e+01,  9.99882367e+01],\n",
       "       [-9.87566053e+01, -9.88460912e+01],\n",
       "       [-9.97260196e+01, -1.00235884e+02],\n",
       "       [-9.83510688e+01, -9.94980112e+01],\n",
       "       [-9.99564766e+01, -9.98789043e+01],\n",
       "       [-9.93327923e+01, -1.00759869e+02],\n",
       "       [-1.00084806e+02, -1.00077251e+02],\n",
       "       [-1.00166608e+02, -1.00193566e+02],\n",
       "       [-1.00978301e+02, -1.00466970e+02],\n",
       "       [-1.00656518e+02, -9.95467638e+01],\n",
       "       [-1.00241542e+02, -9.99540177e+01],\n",
       "       [-1.01336849e+02, -1.00366314e+02],\n",
       "       [-1.00305052e+02, -9.92286268e+01],\n",
       "       [-1.00871636e+02, -9.90396922e+01],\n",
       "       [-1.01648813e+02, -9.86020358e+01],\n",
       "       [-9.85299482e+01, -1.00488844e+02],\n",
       "       [-1.00055276e+02, -9.83350464e+01],\n",
       "       [-1.00921611e+02, -1.00765330e+02],\n",
       "       [-9.98146851e+01, -9.95129639e+01],\n",
       "       [-1.00958407e+02, -1.00514202e+02],\n",
       "       [-9.92062653e+01, -1.00619563e+02]])"
      ]
     },
     "execution_count": 3,
     "metadata": {},
     "output_type": "execute_result"
    }
   ],
   "source": [
    "Y=np.concatenate((Y_1, Y_2, Y_3), axis=0)\n",
    "Y"
   ]
  },
  {
   "cell_type": "code",
   "execution_count": 4,
   "metadata": {},
   "outputs": [
    {
     "data": {
      "image/png": "[encoded data removed]",
      "text/plain": [
       "<Figure size 432x288 with 1 Axes>"
      ]
     },
     "metadata": {
      "needs_background": "light"
     },
     "output_type": "display_data"
    }
   ],
   "source": [
    "plt.clf()\n",
    "plt.scatter(Y[:,0],Y[:,1])\n",
    "plt.grid()"
   ]
  },
  {
   "cell_type": "code",
   "execution_count": 5,
   "metadata": {},
   "outputs": [],
   "source": [
    "Ndata=Y.shape[0]\n",
    "Y=np.concatenate((Y,np.random.randn(Ndata,5)), axis=1)"
   ]
  },
  {
   "cell_type": "code",
   "execution_count": 6,
   "metadata": {},
   "outputs": [
    {
     "data": {
      "text/plain": [
       "array([[ 9.36829921e-01,  3.05608685e-01,  5.04207470e-01,\n",
       "        -2.76072016e+00,  3.49297993e-01, -6.44008328e-01,\n",
       "        -9.06306936e-02, -9.79619076e-01,  1.14155290e-01,\n",
       "         8.89153857e-01, -4.20924197e-01, -4.87099902e-01,\n",
       "        -1.75485259e+00,  1.43205745e+00, -4.02472080e-01,\n",
       "         4.28866974e-01, -1.57547041e+00, -6.98954073e-01,\n",
       "        -1.68438002e+00,  3.17914609e-02,  9.87619371e+01,\n",
       "         9.86694693e+01,  1.01151433e+02,  9.88928347e+01,\n",
       "         9.95328050e+01,  1.02223427e+02,  1.00270200e+02,\n",
       "         9.97810108e+01,  9.99950152e+01,  1.00538364e+02,\n",
       "         9.96568739e+01,  9.95179220e+01,  9.95492231e+01,\n",
       "         9.99758476e+01,  9.98194214e+01,  9.98633781e+01,\n",
       "         9.95105557e+01,  9.99378713e+01,  1.00811692e+02,\n",
       "         9.84113017e+01, -9.87566053e+01, -9.97260196e+01,\n",
       "        -9.83510688e+01, -9.99564766e+01, -9.93327923e+01,\n",
       "        -1.00084806e+02, -1.00166608e+02, -1.00978301e+02,\n",
       "        -1.00656518e+02, -1.00241542e+02, -1.01336849e+02,\n",
       "        -1.00305052e+02, -1.00871636e+02, -1.01648813e+02,\n",
       "        -9.85299482e+01, -1.00055276e+02, -1.00921611e+02,\n",
       "        -9.98146851e+01, -1.00958407e+02, -9.92062653e+01],\n",
       "       [ 2.60981412e-01, -1.23599319e-01,  1.47083519e+00,\n",
       "         1.71352781e+00,  7.84823067e-01,  3.05653391e-02,\n",
       "        -2.14292917e+00, -6.42777439e-01, -3.00116877e+00,\n",
       "         1.30632866e-01,  1.37544009e+00,  1.60071382e+00,\n",
       "        -1.13054635e-01, -9.84598691e-01, -9.23486465e-02,\n",
       "        -1.73725395e-02,  1.40218070e+00,  1.34007568e+00,\n",
       "         1.55524484e+00,  1.14580005e+00,  1.00605835e+02,\n",
       "         1.01025061e+02,  1.00707414e+02,  1.00693032e+02,\n",
       "         9.99546082e+01,  9.91469014e+01,  9.78606099e+01,\n",
       "         9.88785231e+01,  9.95523639e+01,  1.00666455e+02,\n",
       "         1.00407696e+02,  9.94265426e+01,  9.92800340e+01,\n",
       "         1.00003615e+02,  1.00417486e+02,  1.00155211e+02,\n",
       "         9.92692056e+01,  1.01050246e+02,  9.85632202e+01,\n",
       "         9.99882367e+01, -9.88460912e+01, -1.00235884e+02,\n",
       "        -9.94980112e+01, -9.98789043e+01, -1.00759869e+02,\n",
       "        -1.00077251e+02, -1.00193566e+02, -1.00466970e+02,\n",
       "        -9.95467638e+01, -9.99540177e+01, -1.00366314e+02,\n",
       "        -9.92286268e+01, -9.90396922e+01, -9.86020358e+01,\n",
       "        -1.00488844e+02, -9.83350464e+01, -1.00765330e+02,\n",
       "        -9.95129639e+01, -1.00514202e+02, -1.00619563e+02],\n",
       "       [ 3.87568721e-01, -1.78709289e-01,  6.13451645e-01,\n",
       "         6.09732988e-01,  6.00667462e-01, -5.31213214e-01,\n",
       "         9.32346671e-01,  8.36023105e-01,  7.15923616e-01,\n",
       "        -3.47275618e-01, -8.59789295e-01,  6.09049473e-01,\n",
       "         2.57267872e-01, -2.07660100e+00,  1.52218826e+00,\n",
       "        -1.10863673e+00, -1.28177180e-02, -8.25735078e-01,\n",
       "         1.38802556e+00,  4.70359440e-01, -4.09959550e-01,\n",
       "         1.38726826e+00,  4.99569277e-01, -4.03377924e-01,\n",
       "        -6.34527177e-02, -7.41441448e-01,  2.30231005e-02,\n",
       "        -1.10801896e+00, -2.77187766e+00, -1.27783000e+00,\n",
       "         3.45574097e-01,  1.00885438e+00, -7.92680985e-02,\n",
       "        -1.40937698e+00, -1.18735746e+00, -1.03520988e-01,\n",
       "         2.98196938e-01, -9.38211657e-01, -1.56742443e+00,\n",
       "        -3.03231600e-01,  3.83574357e-01, -1.08833689e+00,\n",
       "        -1.11925592e+00,  8.48186270e-01,  1.90348753e+00,\n",
       "        -4.89931894e-01,  1.69852650e-01,  2.75408230e-02,\n",
       "         6.34589045e-02, -2.28253832e+00, -2.09542389e-01,\n",
       "        -1.65429081e+00, -7.90768334e-01, -5.04365134e-01,\n",
       "         9.23238018e-01, -5.99048298e-02, -2.48932941e-01,\n",
       "        -3.54480632e-01,  9.48386514e-01, -6.80033643e-01],\n",
       "       [-1.50842098e+00,  3.26327538e-01, -2.51765260e-01,\n",
       "        -3.53155914e-01,  2.37503181e-01,  1.39538364e+00,\n",
       "         1.23450630e+00, -5.45798059e-01, -1.37263411e+00,\n",
       "        -4.87635250e-01,  1.29566479e+00,  2.32246397e-01,\n",
       "        -8.86724527e-02, -3.62925422e-01, -2.88755053e-01,\n",
       "         1.08637477e-01,  3.35952975e-01,  1.62812615e-01,\n",
       "        -1.65611425e-01,  8.23561584e-01, -1.81182640e+00,\n",
       "         5.96219690e-01,  4.61627492e-01,  4.13619237e-01,\n",
       "        -1.69930160e+00, -1.56909545e+00, -1.24998004e+00,\n",
       "         2.24573941e-01,  2.17271053e+00, -4.09072769e-01,\n",
       "         1.23539956e+00,  1.02766499e+00,  1.80584227e-01,\n",
       "        -1.60688628e+00, -1.04313516e+00, -6.78586132e-01,\n",
       "        -1.66554055e+00,  1.24309029e-01,  1.55182768e-01,\n",
       "         3.57887510e-01, -5.49027086e-01, -6.58045826e-01,\n",
       "         5.65996257e-01, -1.37039785e-01,  6.31784750e-01,\n",
       "        -1.13453581e+00, -4.31810854e-01, -1.14886291e+00,\n",
       "        -7.19141058e-01, -7.32407580e-01,  2.61838202e+00,\n",
       "         1.50924800e+00, -3.74007110e-01,  3.08264207e-01,\n",
       "         6.40671977e-01, -5.18977405e-01, -5.00775464e-01,\n",
       "         5.07679256e-01, -6.87142694e-01, -4.57070249e-01],\n",
       "       [-1.61995032e+00, -2.37700225e-01, -3.21638150e-01,\n",
       "         2.86563768e-01,  1.50574542e-02, -9.72835476e-01,\n",
       "         3.17884042e-01, -2.12336123e-01,  1.44378120e+00,\n",
       "         1.85228387e+00,  8.37285385e-01, -2.04883469e+00,\n",
       "        -1.26220736e+00, -6.86907077e-01, -4.77739427e-01,\n",
       "         6.71924764e-01,  1.14342525e+00,  3.27958142e-01,\n",
       "         7.56522779e-01, -5.92385156e-01, -2.13616687e-01,\n",
       "        -1.76726649e-01,  3.99826561e-01,  8.93777744e-02,\n",
       "        -1.43967637e+00,  1.18138796e+00,  3.00023437e+00,\n",
       "        -1.84469697e+00, -6.80694494e-01,  1.11239017e+00,\n",
       "        -1.10546726e-01, -2.79401636e-01,  4.09256707e-01,\n",
       "        -2.39569503e-01, -4.10836845e-01, -2.76994359e-01,\n",
       "        -1.64171640e-01,  2.36000376e-01,  1.16908143e+00,\n",
       "        -6.36257306e-01, -2.18637060e-01, -2.28597622e-01,\n",
       "         1.12160428e+00, -3.02231911e-01,  4.01247323e-01,\n",
       "         1.08260131e+00,  6.34466931e-01, -1.50438653e+00,\n",
       "        -9.47650562e-01,  1.41308522e-01, -1.07416090e+00,\n",
       "        -2.28470013e+00, -6.40062174e-01,  1.07853011e+00,\n",
       "         9.37632656e-01,  3.80425786e-01, -9.95798503e-02,\n",
       "         1.46957012e+00, -1.18045899e+00,  5.41971567e-01],\n",
       "       [ 2.84554684e-01, -1.32307085e+00,  1.41805834e+00,\n",
       "         3.84225069e-01,  7.33877595e-01,  7.70308778e-02,\n",
       "        -1.63014722e+00, -3.49075810e-02, -2.86868838e-01,\n",
       "         1.59099951e-01, -1.33166551e+00,  2.43633678e-01,\n",
       "         1.15124613e-01, -2.62024680e+00, -8.30962295e-01,\n",
       "        -1.02198649e+00,  8.17736883e-01,  3.61394274e-01,\n",
       "        -4.78261988e-02,  9.92207392e-01,  7.64926960e-01,\n",
       "         1.22884394e+00,  1.25680489e-01,  7.72266507e-01,\n",
       "         1.35881391e+00, -2.94416952e-01,  7.92562026e-01,\n",
       "         1.26899956e+00, -1.13985118e-01,  4.95585952e-01,\n",
       "         1.85804199e-02,  1.39037787e+00, -1.04179518e+00,\n",
       "        -8.79441882e-01, -2.65285887e-01,  6.55220957e-02,\n",
       "        -1.00467621e+00, -1.22857114e+00,  1.95268505e+00,\n",
       "        -1.83817200e-01, -5.86596182e-01,  1.29621597e-01,\n",
       "         1.42760501e-01,  7.23118328e-01, -7.11915730e-01,\n",
       "         1.44994844e+00,  1.25165757e+00, -1.13008460e+00,\n",
       "        -5.24498182e-01, -3.73519954e-01, -9.27632809e-01,\n",
       "         3.53677678e-01, -5.59656401e-01, -2.93311385e-01,\n",
       "        -1.83851181e+00, -3.20243099e-01, -1.17577604e+00,\n",
       "         2.67882358e-01, -1.18970459e+00, -1.39357208e-01],\n",
       "       [-7.75310774e-01, -3.51124977e-01, -1.12124826e+00,\n",
       "         1.31712943e+00,  7.62285348e-01,  8.49285210e-01,\n",
       "        -4.86158202e-01, -2.25348837e+00,  2.06790049e+00,\n",
       "        -7.84944625e-01, -1.12034049e+00,  2.98428430e+00,\n",
       "         1.84731028e+00, -2.99777577e-01, -7.35287156e-01,\n",
       "         1.02637985e+00,  1.26029773e+00,  6.04255697e-01,\n",
       "        -5.54818476e-01, -1.28936395e+00,  5.27500932e-01,\n",
       "        -8.33219534e-01, -9.11151693e-01, -5.60594304e-01,\n",
       "        -4.36726997e-01, -6.79203659e-01, -4.33986163e-01,\n",
       "         2.33516079e-01,  6.96113365e-01, -9.04178839e-01,\n",
       "         8.85841494e-02,  5.62590027e-02, -1.33152044e+00,\n",
       "         1.04125916e+00,  6.15875946e-01,  8.44102927e-01,\n",
       "        -1.02377526e+00, -8.59561235e-01, -1.76029767e+00,\n",
       "        -3.40437059e-01,  1.77115013e+00, -5.68772035e-02,\n",
       "         6.12067807e-01,  5.54427888e-01, -1.34625654e+00,\n",
       "         1.13648218e+00,  1.08756702e+00, -4.18473777e-01,\n",
       "         1.15311531e+00,  7.77177834e-01, -8.37099812e-01,\n",
       "         4.03048623e-01,  1.38643548e+00,  1.63753870e+00,\n",
       "         3.16394611e-01, -1.80264986e+00,  2.77220981e-01,\n",
       "         1.59930395e-01, -4.63365347e-01, -1.71739363e+00]])"
      ]
     },
     "execution_count": 6,
     "metadata": {},
     "output_type": "execute_result"
    }
   ],
   "source": [
    "Yt=np.transpose(Y)\n",
    "Yt"
   ]
  },
  {
   "cell_type": "code",
   "execution_count": 7,
   "metadata": {},
   "outputs": [
    {
     "data": {
      "text/plain": [
       "array([[ 6.77637782e+03,  6.76813256e+03, -7.95749449e+00,\n",
       "        -6.05681527e+00,  3.33100669e+00,  1.79924023e+01,\n",
       "        -1.81830625e+01],\n",
       "       [ 6.76813256e+03,  6.76226847e+03, -7.75469930e+00,\n",
       "        -5.82220145e+00,  2.92824766e+00,  1.82667833e+01,\n",
       "        -1.78104909e+01],\n",
       "       [-7.95749449e+00, -7.75469930e+00,  9.17209884e-01,\n",
       "        -3.15140556e-02,  5.15949818e-03,  5.59480372e-02,\n",
       "        -1.19928922e-01],\n",
       "       [-6.05681527e+00, -5.82220145e+00, -3.15140556e-02,\n",
       "         8.97890958e-01, -1.08920902e-01, -4.72164462e-02,\n",
       "        -6.04482983e-02],\n",
       "       [ 3.33100669e+00,  2.92824766e+00,  5.15949818e-03,\n",
       "        -1.08920902e-01,  9.97977805e-01,  5.62493409e-02,\n",
       "        -1.44270398e-01],\n",
       "       [ 1.79924023e+01,  1.82667833e+01,  5.59480372e-02,\n",
       "        -4.72164462e-02,  5.62493409e-02,  8.67707176e-01,\n",
       "         5.05798320e-02],\n",
       "       [-1.81830625e+01, -1.78104909e+01, -1.19928922e-01,\n",
       "        -6.04482983e-02, -1.44270398e-01,  5.05798320e-02,\n",
       "         1.18543357e+00]])"
      ]
     },
     "execution_count": 7,
     "metadata": {},
     "output_type": "execute_result"
    }
   ],
   "source": [
    "np.cov(Yt)"
   ]
  },
  {
   "cell_type": "code",
   "execution_count": 8,
   "metadata": {},
   "outputs": [],
   "source": [
    "lam,w=np.linalg.eig(np.cov(Yt))"
   ]
  },
  {
   "cell_type": "code",
   "execution_count": 9,
   "metadata": {},
   "outputs": [
    {
     "data": {
      "text/plain": [
       "array([1.35375716e+04, 1.63303590e+00, 1.15178074e+00, 1.04553233e+00,\n",
       "       8.38078847e-01, 6.00794253e-01, 6.71709451e-01])"
      ]
     },
     "execution_count": 9,
     "metadata": {},
     "output_type": "execute_result"
    }
   ],
   "source": [
    "lam"
   ]
  },
  {
   "cell_type": "code",
   "execution_count": 10,
   "metadata": {},
   "outputs": [
    {
     "data": {
      "text/plain": [
       "13537.571574843949"
      ]
     },
     "execution_count": 10,
     "metadata": {},
     "output_type": "execute_result"
    }
   ],
   "source": [
    "max(lam)"
   ]
  },
  {
   "cell_type": "code",
   "execution_count": 11,
   "metadata": {},
   "outputs": [
    {
     "data": {
      "text/plain": [
       "array([ 0.7074723 , -0.50419288,  0.20584628, -0.09734109,  0.10051474,\n",
       "       -0.42811023,  0.0065525 ])"
      ]
     },
     "execution_count": 11,
     "metadata": {},
     "output_type": "execute_result"
    }
   ],
   "source": [
    "w[0]"
   ]
  },
  {
   "cell_type": "code",
   "execution_count": 12,
   "metadata": {},
   "outputs": [
    {
     "data": {
      "text/plain": [
       "array([  0.46807729,   0.7502029 ,  -0.88084961,  -2.78425   ,\n",
       "        -0.35572934,  -0.84140237,   1.81473199,  -0.16491334,\n",
       "         2.15639623,   0.65209527,  -0.64746704,  -1.33960035,\n",
       "        -1.2869711 ,   2.16818147,   0.40617384,   0.58517355,\n",
       "        -2.08380402,  -1.47376267,  -1.58107375,  -1.03132343,\n",
       "        18.89307728,  18.54802317,  20.82418832,  18.74663082,\n",
       "        19.44335854,  22.57153497,  21.68360018,  19.76135111,\n",
       "        19.7529752 ,  20.04330203,  19.81202652,  19.76070286,\n",
       "        20.81655093,  20.53457401,  19.92313278,  20.14741289,\n",
       "        20.98054549,  20.09328639,  20.55886244,  19.12516669,\n",
       "       -19.65690996, -20.25399489, -19.64432619, -20.50659057,\n",
       "       -18.80617495, -20.84387742, -20.73616904, -20.33727378,\n",
       "       -20.801018  , -20.74136478, -21.10336758, -21.79853813,\n",
       "       -21.37080753, -22.08839549, -18.03036316, -21.00479372,\n",
       "       -20.10140899, -20.53070528, -20.09698757, -19.44662483])"
      ]
     },
     "execution_count": 12,
     "metadata": {},
     "output_type": "execute_result"
    }
   ],
   "source": [
    "X=np.matmul(Y,w[0])\n",
    "X"
   ]
  },
  {
   "cell_type": "code",
   "execution_count": 13,
   "metadata": {},
   "outputs": [
    {
     "data": {
      "text/plain": [
       "<matplotlib.collections.PathCollection at 0x248f36d1ac8>"
      ]
     },
     "execution_count": 13,
     "metadata": {},
     "output_type": "execute_result"
    },
    {
     "data": {
      "image/png": "[encoded data removed]",
      "text/plain": [
       "<Figure size 432x288 with 1 Axes>"
      ]
     },
     "metadata": {
      "needs_background": "light"
     },
     "output_type": "display_data"
    }
   ],
   "source": [
    "z=np.zeros(60)\n",
    "plt.scatter(X,z)"
   ]
  },
  {
   "cell_type": "code",
   "execution_count": null,
   "metadata": {},
   "outputs": [],
   "source": []
  }
 ],
 "metadata": {
  "kernelspec": {
   "display_name": "Python 3",
   "language": "python",
   "name": "python3"
  },
  "language_info": {
   "codemirror_mode": {
    "name": "ipython",
    "version": 3
   },
   "file_extension": ".py",
   "mimetype": "text/x-python",
   "name": "python",
   "nbconvert_exporter": "python",
   "pygments_lexer": "ipython3",
   "version": "3.7.3"
  }
 },
 "nbformat": 4,
 "nbformat_minor": 2
}
